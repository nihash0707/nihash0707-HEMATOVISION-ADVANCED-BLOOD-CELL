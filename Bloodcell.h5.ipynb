{
 "cells": [
  {
   "cell_type": "code",
   "execution_count": 1,
   "id": "bd1f1068",
   "metadata": {},
   "outputs": [],
   "source": [
    "import os\n",
    "import pandas as pd\n",
    "import tensorflow as tf\n",
    "from tensorflow import keras\n",
    "from tensorflow.keras.models import Sequential, load_model\n",
    "from tensorflow.keras.layers import Conv2D, MaxPooling2D, Flatten, Dense, BatchNormalization\n",
    "from tensorflow.keras.preprocessing.image import ImageDataGenerator\n",
    "from tensorflow.keras.applications.mobilenet_v2 import preprocess_input\n",
    "\n",
    "import matplotlib.pyplot as plt\n",
    "import seaborn as sns\n",
    "import cv2\n",
    "\n",
    "from sklearn.model_selection import train_test_split\n",
    "from sklearn.metrics import confusion_matrix, accuracy_score, classification_report\n"
   ]
  },
  {
   "cell_type": "code",
   "execution_count": 2,
   "id": "bcecbbfd",
   "metadata": {},
   "outputs": [],
   "source": [
    "import matplotlib.pyplot as plt\n",
    "import numpy as np\n",
    "\n",
    "def show_knee_images(image_gen):\n",
    "    # Get class names from the generator\n",
    "    class_dict = image_gen.class_indices\n",
    "    classes = list(class_dict.keys())\n",
    "\n",
    "    # Get a batch of images and labels\n",
    "    images, labels = next(image_gen)\n",
    "\n",
    "    # Plot up to 25 images\n",
    "    plt.figure(figsize=(20, 20))\n",
    "    r = min(len(images), 25)\n",
    "\n",
    "    for i in range(r):\n",
    "        plt.subplot(5, 5, i + 1)  # 5x5 grid\n",
    "        plt.imshow(images[i])\n",
    "        \n",
    "        # If labels are one-hot encoded\n",
    "        if labels.ndim > 1:\n",
    "            index = np.argmax(labels[i])\n",
    "        else:\n",
    "            index = int(labels[i])\n",
    "\n",
    "        class_name = classes[index]\n",
    "        plt.title(class_name, color=\"green\", fontsize=12)\n",
    "        plt.axis('off')\n",
    "\n",
    "    plt.tight_layout()\n",
    "    plt.show()\n"
   ]
  },
  {
   "cell_type": "code",
   "execution_count": 3,
   "id": "39ba97d4",
   "metadata": {},
   "outputs": [
    {
     "name": "stdout",
     "output_type": "stream",
     "text": [
      "Checking dataset and gathering filepaths:\n",
      "Class 'eosinophil': 2497 images\n",
      "Class 'lymphocyte': 2483 images\n",
      "Class 'monocyte': 2478 images\n",
      "Class 'neutrophil': 2499 images\n",
      "\n",
      "Class distribution in DataFrame:\n",
      "labels\n",
      "neutrophil    2499\n",
      "eosinophil    2497\n",
      "lymphocyte    2483\n",
      "monocyte      2478\n",
      "Name: count, dtype: int64\n",
      "\n",
      "Sample DataFrame entries:\n",
      "                                           filepaths      labels\n",
      "0  C:/Users/Vineela/Downloads/archive/dataset2-ma...  eosinophil\n",
      "1  C:/Users/Vineela/Downloads/archive/dataset2-ma...  lymphocyte\n",
      "2  C:/Users/Vineela/Downloads/archive/dataset2-ma...  neutrophil\n",
      "3  C:/Users/Vineela/Downloads/archive/dataset2-ma...  eosinophil\n",
      "4  C:/Users/Vineela/Downloads/archive/dataset2-ma...  lymphocyte\n"
     ]
    }
   ],
   "source": [
    "import os\n",
    "import pandas as pd\n",
    "\n",
    "data_dir = 'C:/Users/Vineela/Downloads/archive/dataset2-master/dataset2-master/images/TRAIN'\n",
    "class_labels = ['eosinophil', 'lymphocyte', 'monocyte', 'neutrophil']\n",
    "\n",
    "filepaths = []\n",
    "labels = []\n",
    "\n",
    "print(\"Checking dataset and gathering filepaths:\")\n",
    "\n",
    "for label in class_labels:\n",
    "    class_dir = os.path.join(data_dir, label)\n",
    "\n",
    "    if not os.path.isdir(class_dir):\n",
    "        print(f\"Warning: Directory NOT found for class '{label}': {class_dir}\")\n",
    "        continue\n",
    "\n",
    "    # Gather image files for this class\n",
    "    files = [f for f in os.listdir(class_dir) if f.lower().endswith(('.jpeg', '.png', '.jpg'))]\n",
    "\n",
    "    if len(files) == 0:\n",
    "        print(f\"Warning: No image files found in directory for class '{label}': {class_dir}\")\n",
    "\n",
    "    print(f\"Class '{label}': {len(files)} images\")\n",
    "\n",
    "    for file in files:\n",
    "        filepath = os.path.join(class_dir, file)\n",
    "        filepaths.append(filepath)\n",
    "        labels.append(label)\n",
    "\n",
    "# Build DataFrame\n",
    "bloodCell_df = pd.DataFrame({\n",
    "    'filepaths': filepaths,\n",
    "    'labels': labels\n",
    "})\n",
    "\n",
    "# Shuffle rows\n",
    "bloodCell_df = bloodCell_df.sample(frac=1).reset_index(drop=True)\n",
    "\n",
    "# Show distribution of classes\n",
    "print(\"\\nClass distribution in DataFrame:\")\n",
    "print(bloodCell_df['labels'].value_counts())\n",
    "\n",
    "# Display first few rows\n",
    "print(\"\\nSample DataFrame entries:\")\n",
    "print(bloodCell_df.head())\n"
   ]
  },
  {
   "cell_type": "code",
   "execution_count": 4,
   "id": "8565deb4",
   "metadata": {},
   "outputs": [
    {
     "name": "stdout",
     "output_type": "stream",
     "text": [
      "Class weights: {'eosinophil': np.float64(0.9968962755306368), 'lymphocyte': np.float64(1.002517116391462), 'monocyte': np.float64(1.0045399515738498), 'neutrophil': np.float64(0.9960984393757503)}\n"
     ]
    }
   ],
   "source": [
    "from sklearn.utils import class_weight\n",
    "import numpy as np\n",
    "\n",
    "# Example if you have labels as a list or numpy array\n",
    "y = bloodCell_df['labels'].values\n",
    "class_weights = class_weight.compute_class_weight(\n",
    "    class_weight='balanced',\n",
    "    classes=np.unique(y),\n",
    "    y=y\n",
    ")\n",
    "class_weight_dict = dict(zip(np.unique(y), class_weights))\n",
    "print(\"Class weights:\", class_weight_dict)\n"
   ]
  },
  {
   "cell_type": "code",
   "execution_count": 5,
   "id": "f9d08437",
   "metadata": {},
   "outputs": [],
   "source": [
    "def predict_image_class(image_path, model):\n",
    "    img = cv2.imread(image_path)\n",
    "    img_rgb = cv2.cvtColor(img, cv2.COLOR_BGR2RGB)\n",
    "\n",
    "    features = extract_features(img_rgb)  # (1, 20)\n",
    "    print(\"Extracted features shape:\", features.shape)\n",
    "\n",
    "    predictions = model.predict(features)  # Should work only if model expects 20 features\n",
    "    print(\"Prediction probabilities:\", predictions)\n",
    "\n",
    "    predicted_class_idx = np.argmax(predictions, axis=1)[0]\n",
    "    predicted_class_label = class_labels[predicted_class_idx]\n",
    "\n",
    "    return predicted_class_label, img_rgb\n"
   ]
  },
  {
   "cell_type": "code",
   "execution_count": 6,
   "id": "dd43b9bd",
   "metadata": {},
   "outputs": [
    {
     "name": "stdout",
     "output_type": "stream",
     "text": [
      "Training set: (5575, 2)\n",
      "Validation set: (1394, 2)\n",
      "Test set: (2988, 2)\n"
     ]
    }
   ],
   "source": [
    "from sklearn.model_selection import train_test_split\n",
    "\n",
    "# 1. Split bloodCell_df into train and test (70% train, 30% test)\n",
    "train_df, test_df = train_test_split(bloodCell_df, test_size=0.3, random_state=42, stratify=bloodCell_df['labels'])\n",
    "\n",
    "# 2. Split train_df into train and validation (80% train, 20% val from the 70%)\n",
    "train_set, val_set = train_test_split(train_df, test_size=0.2, random_state=42, stratify=train_df['labels'])\n",
    "\n",
    "# 3. Print shapes\n",
    "print(\"Training set:\", train_set.shape)\n",
    "print(\"Validation set:\", val_set.shape)\n",
    "print(\"Test set:\", test_df.shape)\n"
   ]
  },
  {
   "cell_type": "code",
   "execution_count": 7,
   "id": "b333f22b",
   "metadata": {},
   "outputs": [
    {
     "name": "stderr",
     "output_type": "stream",
     "text": [
      "c:\\Users\\Vineela\\Desktop\\homotovision\\.venv\\Lib\\site-packages\\keras\\src\\layers\\convolutional\\base_conv.py:113: UserWarning: Do not pass an `input_shape`/`input_dim` argument to a layer. When using Sequential models, prefer using an `Input(shape)` object as the first layer in the model instead.\n",
      "  super().__init__(activity_regularizer=activity_regularizer, **kwargs)\n"
     ]
    }
   ],
   "source": [
    "from tensorflow import keras\n",
    "\n",
    "# 1. Define the model\n",
    "model = keras.models.Sequential([\n",
    "    keras.layers.Conv2D(filters=128, kernel_size=(8, 8), strides=(3, 3), activation='relu', input_shape=(224, 224, 3)),\n",
    "    keras.layers.BatchNormalization(),\n",
    "    keras.layers.Conv2D(filters=256, kernel_size=(5, 5), strides=(1, 1), activation='relu', padding=\"same\"),\n",
    "    keras.layers.BatchNormalization(),\n",
    "    keras.layers.MaxPool2D(pool_size=(3, 3)),\n",
    "    keras.layers.Conv2D(filters=256, kernel_size=(3, 3), strides=(1, 1), activation='relu', padding=\"same\"),\n",
    "    keras.layers.BatchNormalization(),\n",
    "    keras.layers.Conv2D(filters=256, kernel_size=(1, 1), strides=(1, 1), activation='relu', padding=\"same\"),\n",
    "    keras.layers.BatchNormalization(),\n",
    "    keras.layers.Conv2D(filters=256, kernel_size=(1, 1), strides=(1, 1), activation='relu', padding=\"same\"),\n",
    "    keras.layers.BatchNormalization(),\n",
    "    keras.layers.GlobalAveragePooling2D(),\n",
    "    keras.layers.Dense(4, activation='softmax')  # change 4 to number of classes\n",
    "])\n",
    "\n",
    "# 2. Compile the model\n",
    "model.compile(optimizer='adam', loss='sparse_categorical_crossentropy', metrics=['accuracy'])"
   ]
  },
  {
   "cell_type": "code",
   "execution_count": 8,
   "id": "8158113e",
   "metadata": {},
   "outputs": [
    {
     "name": "stdout",
     "output_type": "stream",
     "text": [
      "Found 5575 validated image filenames belonging to 4 classes.\n",
      "Found 1394 validated image filenames belonging to 4 classes.\n",
      "Found 2988 validated image filenames belonging to 4 classes.\n"
     ]
    }
   ],
   "source": [
    "from tensorflow.keras.preprocessing.image import ImageDataGenerator\n",
    "import tensorflow as tf\n",
    "\n",
    "# Use MobileNetV2 preprocessing\n",
    "image_gen = ImageDataGenerator(\n",
    "    preprocessing_function=tf.keras.applications.mobilenet_v2.preprocess_input\n",
    ")\n",
    "\n",
    "# Set constants\n",
    "TARGET_SIZE = (224, 224)\n",
    "BATCH_SIZE = 8\n",
    "CLASSES = ['eosinophil', 'lymphocyte', 'monocyte', 'neutrophil']\n",
    "\n",
    "\n",
    "# Train generator\n",
    "train = image_gen.flow_from_dataframe(\n",
    "    dataframe=train_set,\n",
    "    x_col=\"filepaths\",\n",
    "    y_col=\"labels\",\n",
    "    target_size=TARGET_SIZE,\n",
    "    color_mode='rgb',\n",
    "    classes=CLASSES,\n",
    "    class_mode=\"categorical\",\n",
    "    batch_size=BATCH_SIZE,\n",
    "    shuffle=True\n",
    ")\n",
    "\n",
    "# Validation generator\n",
    "val = image_gen.flow_from_dataframe(\n",
    "    dataframe=val_set,\n",
    "    x_col=\"filepaths\",\n",
    "    y_col=\"labels\",\n",
    "    target_size=TARGET_SIZE,\n",
    "    color_mode='rgb',\n",
    "    classes=CLASSES,\n",
    "    class_mode=\"categorical\",\n",
    "    batch_size=BATCH_SIZE,\n",
    "    shuffle=False\n",
    ")\n",
    "\n",
    "# Test generator\n",
    "test = image_gen.flow_from_dataframe(\n",
    "    dataframe=test_df,\n",
    "    x_col=\"filepaths\",\n",
    "    y_col=\"labels\",\n",
    "    target_size=TARGET_SIZE,\n",
    "    color_mode='rgb',\n",
    "    classes=CLASSES,\n",
    "    class_mode=\"categorical\",\n",
    "    batch_size=BATCH_SIZE,\n",
    "    shuffle=False\n",
    ")\n"
   ]
  },
  {
   "cell_type": "code",
   "execution_count": 13,
   "id": "c0ac4257",
   "metadata": {},
   "outputs": [
    {
     "name": "stdout",
     "output_type": "stream",
     "text": [
      "\u001b[1m3/3\u001b[0m \u001b[32m━━━━━━━━━━━━━━━━━━━━\u001b[0m\u001b[37m\u001b[0m \u001b[1m2s\u001b[0m 577ms/step\n",
      "Class indices: {'eosinophil': 0}\n",
      "Reversed labels dict keys: dict_keys([0])\n",
      "['Unknown', 'Unknown', 'Unknown', 'Unknown', 'Unknown', 'Unknown', 'Unknown', 'Unknown', 'Unknown', 'Unknown', 'Unknown', 'Unknown', 'Unknown', 'Unknown', 'Unknown', 'Unknown', 'Unknown', 'Unknown', 'Unknown']\n"
     ]
    }
   ],
   "source": [
    "import numpy as np\n",
    "\n",
    "# 1. Predict class probabilities for test data\n",
    "pred = model.predict(test)\n",
    "\n",
    "# 2. Get predicted class indices (highest probability)\n",
    "pred_class_indices = np.argmax(pred, axis=1)\n",
    "\n",
    "# 3. Get class indices dictionary from train generator\n",
    "labels = train.class_indices\n",
    "print(\"Class indices:\", labels)\n",
    "\n",
    "# 4. Reverse dictionary: index -> class name\n",
    "labels_rev = {v: k for k, v in labels.items()}\n",
    "print(\"Reversed labels dict keys:\", labels_rev.keys())\n",
    "\n",
    "# 5. Map predicted indices to class names with safe fallback\n",
    "predicted_labels = [labels_rev.get(k, \"Unknown\") for k in pred_class_indices]\n",
    "\n",
    "# 6. Print or use predicted labels\n",
    "print(predicted_labels)\n"
   ]
  },
  {
   "cell_type": "code",
   "execution_count": 14,
   "id": "03094de2",
   "metadata": {},
   "outputs": [
    {
     "name": "stdout",
     "output_type": "stream",
     "text": [
      "Downloading data from https://storage.googleapis.com/tensorflow/tf-keras-datasets/mnist.npz\n",
      "\u001b[1m11490434/11490434\u001b[0m \u001b[32m━━━━━━━━━━━━━━━━━━━━\u001b[0m\u001b[37m\u001b[0m \u001b[1m3s\u001b[0m 0us/step\n"
     ]
    },
    {
     "name": "stderr",
     "output_type": "stream",
     "text": [
      "c:\\Users\\Vineela\\Desktop\\homotovision\\.venv\\Lib\\site-packages\\keras\\src\\layers\\convolutional\\base_conv.py:113: UserWarning: Do not pass an `input_shape`/`input_dim` argument to a layer. When using Sequential models, prefer using an `Input(shape)` object as the first layer in the model instead.\n",
      "  super().__init__(activity_regularizer=activity_regularizer, **kwargs)\n"
     ]
    },
    {
     "name": "stdout",
     "output_type": "stream",
     "text": [
      "Epoch 1/5\n",
      "\u001b[1m1563/1563\u001b[0m \u001b[32m━━━━━━━━━━━━━━━━━━━━\u001b[0m\u001b[37m\u001b[0m \u001b[1m18s\u001b[0m 10ms/step - accuracy: 0.8931 - loss: 0.3601 - val_accuracy: 0.9751 - val_loss: 0.0845\n",
      "Epoch 2/5\n",
      "\u001b[1m1563/1563\u001b[0m \u001b[32m━━━━━━━━━━━━━━━━━━━━\u001b[0m\u001b[37m\u001b[0m \u001b[1m17s\u001b[0m 11ms/step - accuracy: 0.9809 - loss: 0.0621 - val_accuracy: 0.9813 - val_loss: 0.0667\n",
      "Epoch 3/5\n",
      "\u001b[1m1563/1563\u001b[0m \u001b[32m━━━━━━━━━━━━━━━━━━━━\u001b[0m\u001b[37m\u001b[0m \u001b[1m18s\u001b[0m 11ms/step - accuracy: 0.9883 - loss: 0.0391 - val_accuracy: 0.9823 - val_loss: 0.0589\n",
      "Epoch 4/5\n",
      "\u001b[1m1563/1563\u001b[0m \u001b[32m━━━━━━━━━━━━━━━━━━━━\u001b[0m\u001b[37m\u001b[0m \u001b[1m17s\u001b[0m 9ms/step - accuracy: 0.9910 - loss: 0.0286 - val_accuracy: 0.9846 - val_loss: 0.0587\n",
      "Epoch 5/5\n",
      "\u001b[1m1563/1563\u001b[0m \u001b[32m━━━━━━━━━━━━━━━━━━━━\u001b[0m\u001b[37m\u001b[0m \u001b[1m18s\u001b[0m 11ms/step - accuracy: 0.9940 - loss: 0.0202 - val_accuracy: 0.9840 - val_loss: 0.0569\n",
      "Epoch 1/5\n",
      "\u001b[1m1563/1563\u001b[0m \u001b[32m━━━━━━━━━━━━━━━━━━━━\u001b[0m\u001b[37m\u001b[0m \u001b[1m21s\u001b[0m 14ms/step - accuracy: 0.9954 - loss: 0.0136 - val_accuracy: 0.9845 - val_loss: 0.0575\n",
      "Epoch 2/5\n",
      "\u001b[1m1563/1563\u001b[0m \u001b[32m━━━━━━━━━━━━━━━━━━━━\u001b[0m\u001b[37m\u001b[0m \u001b[1m15s\u001b[0m 9ms/step - accuracy: 0.9976 - loss: 0.0091 - val_accuracy: 0.9840 - val_loss: 0.0596\n",
      "Epoch 3/5\n",
      "\u001b[1m1563/1563\u001b[0m \u001b[32m━━━━━━━━━━━━━━━━━━━━\u001b[0m\u001b[37m\u001b[0m \u001b[1m15s\u001b[0m 10ms/step - accuracy: 0.9971 - loss: 0.0081 - val_accuracy: 0.9866 - val_loss: 0.0615\n",
      "Epoch 4/5\n",
      "\u001b[1m1563/1563\u001b[0m \u001b[32m━━━━━━━━━━━━━━━━━━━━\u001b[0m\u001b[37m\u001b[0m \u001b[1m16s\u001b[0m 10ms/step - accuracy: 0.9982 - loss: 0.0058 - val_accuracy: 0.9851 - val_loss: 0.0670\n",
      "Epoch 5/5\n",
      "\u001b[1m1563/1563\u001b[0m \u001b[32m━━━━━━━━━━━━━━━━━━━━\u001b[0m\u001b[37m\u001b[0m \u001b[1m16s\u001b[0m 11ms/step - accuracy: 0.9990 - loss: 0.0033 - val_accuracy: 0.9841 - val_loss: 0.0697\n"
     ]
    },
    {
     "data": {
      "image/png": "[encoded data removed]",
      "text/plain": [
       "<Figure size 640x480 with 1 Axes>"
      ]
     },
     "metadata": {},
     "output_type": "display_data"
    }
   ],
   "source": [
    "import numpy as np\n",
    "import matplotlib.pyplot as plt\n",
    "from tensorflow.keras.datasets import mnist\n",
    "from tensorflow.keras.utils import to_categorical\n",
    "from tensorflow.keras.models import Sequential\n",
    "from tensorflow.keras.layers import Conv2D, MaxPooling2D, Flatten, Dense\n",
    "\n",
    "# Load and preprocess the MNIST dataset\n",
    "(X_train, y_train), (X_test, y_test) = mnist.load_data()\n",
    "\n",
    "# Normalize input data\n",
    "X_train = X_train / 255.0\n",
    "X_test = X_test / 255.0\n",
    "\n",
    "# Reshape input data to add channel dimension (for CNNs)\n",
    "X_train = X_train.reshape(-1, 28, 28, 1)\n",
    "X_test = X_test.reshape(-1, 28, 28, 1)\n",
    "\n",
    "# Convert labels to one-hot encoding\n",
    "y_train = to_categorical(y_train, 10)\n",
    "y_test = to_categorical(y_test, 10)\n",
    "\n",
    "# Create a validation set\n",
    "X_val = X_train[-10000:]\n",
    "y_val = y_train[-10000:]\n",
    "X_train = X_train[:-10000]\n",
    "y_train = y_train[:-10000]\n",
    "\n",
    "# Define the CNN model\n",
    "model = Sequential([\n",
    "    Conv2D(32, (3, 3), activation='relu', input_shape=(28, 28, 1)),\n",
    "    MaxPooling2D((2, 2)),\n",
    "    Flatten(),\n",
    "    Dense(64, activation='relu'),\n",
    "    Dense(10, activation='softmax')\n",
    "])\n",
    "\n",
    "# Compile the model\n",
    "model.compile(optimizer='adam', loss='categorical_crossentropy', metrics=['accuracy'])\n",
    "\n",
    "# Train the model in two phases\n",
    "history = model.fit(X_train, y_train, epochs=5, validation_data=(X_val, y_val))\n",
    "history1 = model.fit(X_train, y_train, epochs=5, validation_data=(X_val, y_val))\n",
    "\n",
    "# Combine training and validation accuracies\n",
    "acc = np.concatenate([history.history['accuracy'], history1.history['accuracy']])\n",
    "val_acc = np.concatenate([history.history['val_accuracy'], history1.history['val_accuracy']])\n",
    "\n",
    "# Plot the accuracy\n",
    "plt.plot(acc, label='Train Accuracy')\n",
    "plt.plot(val_acc, label='Validation Accuracy')\n",
    "plt.title('Model Accuracy over 10 Epochs (5 + 5)')\n",
    "plt.ylabel('Accuracy')\n",
    "plt.xlabel('Epoch')\n",
    "plt.legend(loc='upper left')\n",
    "plt.grid(True)\n",
    "plt.show()\n"
   ]
  },
  {
   "cell_type": "code",
   "execution_count": 15,
   "id": "2c1d6801",
   "metadata": {},
   "outputs": [
    {
     "data": {
      "image/png": "[encoded data removed]",
      "text/plain": [
       "<Figure size 640x480 with 1 Axes>"
      ]
     },
     "metadata": {},
     "output_type": "display_data"
    }
   ],
   "source": [
    "plt.plot(history.history['loss'] + history1.history['loss'])\n",
    "\n",
    "plt.plot(history.history['val_loss'] + history1.history['val_loss'])\n",
    "\n",
    "plt.title('model loss')\n",
    "\n",
    "plt.ylabel('loss')\n",
    "\n",
    "plt.xlabel('epoch')\n",
    "\n",
    "plt.legend(['train', 'val'], loc='upper left')\n",
    "\n",
    "plt.show()"
   ]
  },
  {
   "cell_type": "code",
   "execution_count": 31,
   "id": "318f983a",
   "metadata": {},
   "outputs": [
    {
     "name": "stderr",
     "output_type": "stream",
     "text": [
      "WARNING:absl:Compiled the loaded model, but the compiled metrics have yet to be built. `model.compile_metrics` will be empty until you train or evaluate the model.\n"
     ]
    },
    {
     "name": "stdout",
     "output_type": "stream",
     "text": [
      "\u001b[1m1/1\u001b[0m \u001b[32m━━━━━━━━━━━━━━━━━━━━\u001b[0m\u001b[37m\u001b[0m \u001b[1m0s\u001b[0m 147ms/step\n",
      "Prediction probabilities: [[0.53560877]]\n",
      "Predicted class: eosinophil\n"
     ]
    }
   ],
   "source": [
    "import cv2\n",
    "import numpy as np\n",
    "from tensorflow.keras.models import load_model\n",
    "\n",
    "model = load_model(\"Bloodcell.h5\")\n",
    "class_labels = ['eosinophil', 'lymphocyte', 'monocyte', 'neutrophil']\n",
    "\n",
    "def extract_features(img):\n",
    "    img = cv2.resize(img, (64, 64))\n",
    "    hsv = cv2.cvtColor(img, cv2.COLOR_RGB2HSV)\n",
    "    hist_h = cv2.calcHist([hsv], [0], None, [7], [0, 180])\n",
    "    hist_s = cv2.calcHist([hsv], [1], None, [7], [0, 256])\n",
    "    hist_v = cv2.calcHist([hsv], [2], None, [6], [0, 256])\n",
    "    features = np.concatenate([hist_h, hist_s, hist_v]).flatten()\n",
    "    features = features / np.sum(features)\n",
    "    return features.reshape(1, -1)\n",
    "\n",
    "# Put here the full path to an actual neutrophil image\n",
    "img_path = \"C:/Users/Vineela/Downloads/archive/dataset-master/dataset-master/JPEGImages/BloodImage_00004.jpg\"\n",
    "\n",
    "img = cv2.imread(img_path)\n",
    "if img is None:\n",
    "    raise ValueError(f\"Image not found or failed to load: {img_path}\")\n",
    "\n",
    "img_rgb = cv2.cvtColor(img, cv2.COLOR_BGR2RGB)\n",
    "\n",
    "features = extract_features(img_rgb)\n",
    "preds = model.predict(features)\n",
    "\n",
    "print(\"Prediction probabilities:\", preds)\n",
    "print(\"Predicted class:\", class_labels[np.argmax(preds)])\n"
   ]
  },
  {
   "cell_type": "code",
   "execution_count": 32,
   "id": "ba08f845",
   "metadata": {},
   "outputs": [
    {
     "data": {
      "text/html": [
       "<pre style=\"white-space:pre;overflow-x:auto;line-height:normal;font-family:Menlo,'DejaVu Sans Mono',consolas,'Courier New',monospace\"><span style=\"font-weight: bold\">Model: \"sequential\"</span>\n",
       "</pre>\n"
      ],
      "text/plain": [
       "\u001b[1mModel: \"sequential\"\u001b[0m\n"
      ]
     },
     "metadata": {},
     "output_type": "display_data"
    },
    {
     "data": {
      "text/html": [
       "<pre style=\"white-space:pre;overflow-x:auto;line-height:normal;font-family:Menlo,'DejaVu Sans Mono',consolas,'Courier New',monospace\">┏━━━━━━━━━━━━━━━━━━━━━━━━━━━━━━━━━┳━━━━━━━━━━━━━━━━━━━━━━━━┳━━━━━━━━━━━━━━━┓\n",
       "┃<span style=\"font-weight: bold\"> Layer (type)                    </span>┃<span style=\"font-weight: bold\"> Output Shape           </span>┃<span style=\"font-weight: bold\">       Param # </span>┃\n",
       "┡━━━━━━━━━━━━━━━━━━━━━━━━━━━━━━━━━╇━━━━━━━━━━━━━━━━━━━━━━━━╇━━━━━━━━━━━━━━━┩\n",
       "│ dense (<span style=\"color: #0087ff; text-decoration-color: #0087ff\">Dense</span>)                   │ (<span style=\"color: #00d7ff; text-decoration-color: #00d7ff\">None</span>, <span style=\"color: #00af00; text-decoration-color: #00af00\">10</span>)             │           <span style=\"color: #00af00; text-decoration-color: #00af00\">210</span> │\n",
       "├─────────────────────────────────┼────────────────────────┼───────────────┤\n",
       "│ dense_1 (<span style=\"color: #0087ff; text-decoration-color: #0087ff\">Dense</span>)                 │ (<span style=\"color: #00d7ff; text-decoration-color: #00d7ff\">None</span>, <span style=\"color: #00af00; text-decoration-color: #00af00\">1</span>)              │            <span style=\"color: #00af00; text-decoration-color: #00af00\">11</span> │\n",
       "└─────────────────────────────────┴────────────────────────┴───────────────┘\n",
       "</pre>\n"
      ],
      "text/plain": [
       "┏━━━━━━━━━━━━━━━━━━━━━━━━━━━━━━━━━┳━━━━━━━━━━━━━━━━━━━━━━━━┳━━━━━━━━━━━━━━━┓\n",
       "┃\u001b[1m \u001b[0m\u001b[1mLayer (type)                   \u001b[0m\u001b[1m \u001b[0m┃\u001b[1m \u001b[0m\u001b[1mOutput Shape          \u001b[0m\u001b[1m \u001b[0m┃\u001b[1m \u001b[0m\u001b[1m      Param #\u001b[0m\u001b[1m \u001b[0m┃\n",
       "┡━━━━━━━━━━━━━━━━━━━━━━━━━━━━━━━━━╇━━━━━━━━━━━━━━━━━━━━━━━━╇━━━━━━━━━━━━━━━┩\n",
       "│ dense (\u001b[38;5;33mDense\u001b[0m)                   │ (\u001b[38;5;45mNone\u001b[0m, \u001b[38;5;34m10\u001b[0m)             │           \u001b[38;5;34m210\u001b[0m │\n",
       "├─────────────────────────────────┼────────────────────────┼───────────────┤\n",
       "│ dense_1 (\u001b[38;5;33mDense\u001b[0m)                 │ (\u001b[38;5;45mNone\u001b[0m, \u001b[38;5;34m1\u001b[0m)              │            \u001b[38;5;34m11\u001b[0m │\n",
       "└─────────────────────────────────┴────────────────────────┴───────────────┘\n"
      ]
     },
     "metadata": {},
     "output_type": "display_data"
    },
    {
     "data": {
      "text/html": [
       "<pre style=\"white-space:pre;overflow-x:auto;line-height:normal;font-family:Menlo,'DejaVu Sans Mono',consolas,'Courier New',monospace\"><span style=\"font-weight: bold\"> Total params: </span><span style=\"color: #00af00; text-decoration-color: #00af00\">223</span> (896.00 B)\n",
       "</pre>\n"
      ],
      "text/plain": [
       "\u001b[1m Total params: \u001b[0m\u001b[38;5;34m223\u001b[0m (896.00 B)\n"
      ]
     },
     "metadata": {},
     "output_type": "display_data"
    },
    {
     "data": {
      "text/html": [
       "<pre style=\"white-space:pre;overflow-x:auto;line-height:normal;font-family:Menlo,'DejaVu Sans Mono',consolas,'Courier New',monospace\"><span style=\"font-weight: bold\"> Trainable params: </span><span style=\"color: #00af00; text-decoration-color: #00af00\">221</span> (884.00 B)\n",
       "</pre>\n"
      ],
      "text/plain": [
       "\u001b[1m Trainable params: \u001b[0m\u001b[38;5;34m221\u001b[0m (884.00 B)\n"
      ]
     },
     "metadata": {},
     "output_type": "display_data"
    },
    {
     "data": {
      "text/html": [
       "<pre style=\"white-space:pre;overflow-x:auto;line-height:normal;font-family:Menlo,'DejaVu Sans Mono',consolas,'Courier New',monospace\"><span style=\"font-weight: bold\"> Non-trainable params: </span><span style=\"color: #00af00; text-decoration-color: #00af00\">0</span> (0.00 B)\n",
       "</pre>\n"
      ],
      "text/plain": [
       "\u001b[1m Non-trainable params: \u001b[0m\u001b[38;5;34m0\u001b[0m (0.00 B)\n"
      ]
     },
     "metadata": {},
     "output_type": "display_data"
    },
    {
     "data": {
      "text/html": [
       "<pre style=\"white-space:pre;overflow-x:auto;line-height:normal;font-family:Menlo,'DejaVu Sans Mono',consolas,'Courier New',monospace\"><span style=\"font-weight: bold\"> Optimizer params: </span><span style=\"color: #00af00; text-decoration-color: #00af00\">2</span> (12.00 B)\n",
       "</pre>\n"
      ],
      "text/plain": [
       "\u001b[1m Optimizer params: \u001b[0m\u001b[38;5;34m2\u001b[0m (12.00 B)\n"
      ]
     },
     "metadata": {},
     "output_type": "display_data"
    }
   ],
   "source": [
    "model.summary()\n"
   ]
  },
  {
   "cell_type": "code",
   "execution_count": 9,
   "id": "4d76b99a",
   "metadata": {},
   "outputs": [
    {
     "name": "stderr",
     "output_type": "stream",
     "text": [
      "WARNING:absl:Compiled the loaded model, but the compiled metrics have yet to be built. `model.compile_metrics` will be empty until you train or evaluate the model.\n"
     ]
    },
    {
     "name": "stdout",
     "output_type": "stream",
     "text": [
      "Model input shape: (None, 20)\n",
      "X_test shape: (71, 20)\n",
      "Checking for NaNs or infinite values in features:\n",
      "0 NaNs found\n",
      "0 Infinite values found\n",
      "\u001b[1m3/3\u001b[0m \u001b[32m━━━━━━━━━━━━━━━━━━━━\u001b[0m\u001b[37m\u001b[0m \u001b[1m0s\u001b[0m 30ms/step \n",
      "\n",
      "Classification Report:\n",
      "\n",
      "              precision    recall  f1-score   support\n",
      "\n",
      "  eosinophil       0.18      1.00      0.31        13\n",
      "  lymphocyte       0.00      0.00      0.00         6\n",
      "    monocyte       0.00      0.00      0.00         4\n",
      "  neutrophil       0.00      0.00      0.00        48\n",
      "\n",
      "    accuracy                           0.18        71\n",
      "   macro avg       0.05      0.25      0.08        71\n",
      "weighted avg       0.03      0.18      0.06        71\n",
      "\n",
      "\n",
      "Accuracy: 18.31%\n"
     ]
    },
    {
     "name": "stderr",
     "output_type": "stream",
     "text": [
      "c:\\Users\\Vineela\\Desktop\\homotovision\\.venv\\Lib\\site-packages\\sklearn\\metrics\\_classification.py:1706: UndefinedMetricWarning: Precision is ill-defined and being set to 0.0 in labels with no predicted samples. Use `zero_division` parameter to control this behavior.\n",
      "  _warn_prf(average, modifier, f\"{metric.capitalize()} is\", result.shape[0])\n",
      "c:\\Users\\Vineela\\Desktop\\homotovision\\.venv\\Lib\\site-packages\\sklearn\\metrics\\_classification.py:1706: UndefinedMetricWarning: Precision is ill-defined and being set to 0.0 in labels with no predicted samples. Use `zero_division` parameter to control this behavior.\n",
      "  _warn_prf(average, modifier, f\"{metric.capitalize()} is\", result.shape[0])\n",
      "c:\\Users\\Vineela\\Desktop\\homotovision\\.venv\\Lib\\site-packages\\sklearn\\metrics\\_classification.py:1706: UndefinedMetricWarning: Precision is ill-defined and being set to 0.0 in labels with no predicted samples. Use `zero_division` parameter to control this behavior.\n",
      "  _warn_prf(average, modifier, f\"{metric.capitalize()} is\", result.shape[0])\n"
     ]
    },
    {
     "data": {
      "image/png": "[encoded data removed]",
      "text/plain": [
       "<Figure size 800x600 with 2 Axes>"
      ]
     },
     "metadata": {},
     "output_type": "display_data"
    }
   ],
   "source": [
    "import os\n",
    "import numpy as np\n",
    "import cv2\n",
    "from tensorflow.keras.models import load_model\n",
    "from sklearn.metrics import classification_report, accuracy_score, confusion_matrix\n",
    "import matplotlib.pyplot as plt\n",
    "import seaborn as sns\n",
    "\n",
    "# --- Paths ---\n",
    "train_dir=\"C:/Users/Vineela/Downloads/archive/dataset2-master/dataset2-master/images/TRAIN\"\n",
    "test_dir = \"C:/Users/Vineela/Downloads/archive/dataset2-master/dataset2-master/images/TEST_SIMPLE\"\n",
    "model_path = \"C:/Users/Vineela/Desktop/homotovision/chatbot/Bloodcell.h5\"\n",
    "\n",
    "# --- Classes ---\n",
    "class_labels = ['eosinophil', 'lymphocyte', 'monocyte', 'neutrophil']\n",
    "\n",
    "# --- Load model ---\n",
    "model = load_model(model_path)\n",
    "print(\"Model input shape:\", model.input_shape)\n",
    "\n",
    "# --- Feature extraction function ---\n",
    "def extract_features(img):\n",
    "    img = cv2.resize(img, (64, 64))\n",
    "    hsv = cv2.cvtColor(img, cv2.COLOR_RGB2HSV)\n",
    "    hist_h = cv2.calcHist([hsv], [0], None, [7], [0, 180]).flatten()\n",
    "    hist_s = cv2.calcHist([hsv], [1], None, [7], [0, 256]).flatten()\n",
    "    hist_v = cv2.calcHist([hsv], [2], None, [6], [0, 256]).flatten()\n",
    "    features = np.concatenate([hist_h, hist_s, hist_v])\n",
    "    features = features / np.sum(features)  # normalize histogram\n",
    "    return features\n",
    "\n",
    "# --- Load test images and extract features ---\n",
    "test_features = []\n",
    "test_true_labels = []\n",
    "\n",
    "for label in class_labels:\n",
    "    folder = os.path.join(test_dir, label)\n",
    "    for filename in os.listdir(folder):\n",
    "        if filename.lower().endswith(('.png', '.jpg', '.jpeg')):\n",
    "            path = os.path.join(folder, filename)\n",
    "            img = cv2.imread(path)\n",
    "            img_rgb = cv2.cvtColor(img, cv2.COLOR_BGR2RGB)\n",
    "            feat = extract_features(img_rgb)\n",
    "            test_features.append(feat)\n",
    "            test_true_labels.append(label)\n",
    "\n",
    "X_test = np.array(test_features)\n",
    "y_true = np.array(test_true_labels)\n",
    "\n",
    "print(\"X_test shape:\", X_test.shape)\n",
    "print(\"Checking for NaNs or infinite values in features:\")\n",
    "print(np.isnan(X_test).sum(), \"NaNs found\")\n",
    "print(np.isinf(X_test).sum(), \"Infinite values found\")\n",
    "\n",
    "# Replace any NaN or Inf if present\n",
    "X_test = np.nan_to_num(X_test)\n",
    "\n",
    "# --- Predict ---\n",
    "preds = model.predict(X_test)\n",
    "pred_indices = np.argmax(preds, axis=1)\n",
    "y_pred = [class_labels[i] for i in pred_indices]\n",
    "\n",
    "# --- Evaluate ---\n",
    "print(\"\\nClassification Report:\\n\")\n",
    "print(classification_report(y_true, y_pred))\n",
    "\n",
    "accuracy = accuracy_score(y_true, y_pred)\n",
    "print(f\"\\nAccuracy: {accuracy * 100:.2f}%\")\n",
    "\n",
    "# --- Confusion Matrix ---\n",
    "cm = confusion_matrix(y_true, y_pred, labels=class_labels)\n",
    "\n",
    "plt.figure(figsize=(8, 6))\n",
    "sns.heatmap(cm, annot=True, fmt='d', cmap='Blues',\n",
    "            xticklabels=class_labels,\n",
    "            yticklabels=class_labels)\n",
    "plt.xlabel(\"Predicted\")\n",
    "plt.ylabel(\"Actual\")\n",
    "plt.title(\"Confusion Matrix\")\n",
    "plt.tight_layout()\n",
    "plt.show()\n"
   ]
  }
 ],
 "metadata": {
  "kernelspec": {
   "display_name": ".venv",
   "language": "python",
   "name": "python3"
  },
  "language_info": {
   "codemirror_mode": {
    "name": "ipython",
    "version": 3
   },
   "file_extension": ".py",
   "mimetype": "text/x-python",
   "name": "python",
   "nbconvert_exporter": "python",
   "pygments_lexer": "ipython3",
   "version": "3.12.10"
  }
 },
 "nbformat": 4,
 "nbformat_minor": 5
}
